{
 "cells": [
  {
   "cell_type": "code",
   "execution_count": 2,
   "id": "ef2ad77d",
   "metadata": {},
   "outputs": [
    {
     "name": "stdout",
     "output_type": "stream",
     "text": [
      "{'data': {'edad': 25, 'nombre': 'Ejemplo'}, 'message': 'Datos recibidos correctamente'}\n"
     ]
    }
   ],
   "source": [
    "import requests\n",
    "import json\n",
    "\n",
    "# Datos JSON que deseas enviar\n",
    "data_to_send = {\"nombre\": \"Ejemplo\", \"edad\": 25}\n",
    "\n",
    "# URL de tu microservicio\n",
    "url = 'http://localhost:5000/api/receive_json'\n",
    "\n",
    "# Realizar una solicitud POST con los datos JSON\n",
    "response = requests.post(url, json=data_to_send)\n",
    "\n",
    "# Imprimir la respuesta del microservicio\n",
    "print(response.json())"
   ]
  }
 ],
 "metadata": {
  "kernelspec": {
   "display_name": "Python 3 (ipykernel)",
   "language": "python",
   "name": "python3"
  },
  "language_info": {
   "codemirror_mode": {
    "name": "ipython",
    "version": 3
   },
   "file_extension": ".py",
   "mimetype": "text/x-python",
   "name": "python",
   "nbconvert_exporter": "python",
   "pygments_lexer": "ipython3",
   "version": "3.9.12"
  }
 },
 "nbformat": 4,
 "nbformat_minor": 5
}
